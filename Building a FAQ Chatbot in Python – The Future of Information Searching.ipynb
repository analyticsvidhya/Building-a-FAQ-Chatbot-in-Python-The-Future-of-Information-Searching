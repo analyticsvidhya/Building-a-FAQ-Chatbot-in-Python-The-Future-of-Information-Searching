{
 "cells": [
  {
   "cell_type": "markdown",
   "metadata": {},
   "source": [
    "## Server "
   ]
  },
  {
   "cell_type": "code",
   "execution_count": null,
   "metadata": {},
   "outputs": [],
   "source": [
    "{\n",
    "  \"pipeline\": \"spacy_sklearn\",\n",
    "  \"path\" : \"./\",\n",
    "  \"data\" : \"./data/gstfaq-data.json\"\n",
    "}"
   ]
  },
  {
   "cell_type": "code",
   "execution_count": null,
   "metadata": {},
   "outputs": [],
   "source": [
    "-m rasa_nlu.train -c config.json"
   ]
  },
  {
   "cell_type": "code",
   "execution_count": null,
   "metadata": {},
   "outputs": [],
   "source": [
    "-m rasa_nlu.server -c config.json --server_model_dirs=./model_YYYYMMDD-HHMMSS"
   ]
  },
  {
   "cell_type": "markdown",
   "metadata": {},
   "source": [
    "## Client "
   ]
  },
  {
   "cell_type": "code",
   "execution_count": null,
   "metadata": {},
   "outputs": [],
   "source": [
    "<!DOCTYPE HTML>\n",
    "<html lang=\"en\">\n",
    "<head>\n",
    "…\n",
    "</head>\n",
    "    <body>\n",
    "         <h1 align=\"center\">GST FAQ Chat</h1>\n",
    "        <div class=\"container\">\n",
    "            {% block content %}{% endblock %}\n",
    "        </div>\n",
    "</body>\n",
    "    <footer>\n",
    "        {% block other_footers %}{% endblock %}\n",
    "    </footer>\n",
    "</html>"
   ]
  },
  {
   "cell_type": "code",
   "execution_count": null,
   "metadata": {},
   "outputs": [],
   "source": [
    "{% block content %}\n",
    "<div class=\"row\">\n",
    "    <div class=\"col-sm-6\">\n",
    "        <div class=\"row\">\n",
    "            <div class=\"chat_window\">\n",
    "                <ul class=\"messages\"></ul>\n",
    "                <div class=\"bottom_wrapper clearfix\">\n",
    "                    <div class=\"message_input_wrapper\">\n",
    "                        <input id=\"msg_input\" class=\"message_input\" placeholder=\"Say Hi to begin chat...\" />\n",
    "                    </div>\n",
    "                    <div class=\"send_message\">\n",
    "                         <div class=\"text\">send</div>\n",
    "                    </div>\n",
    "                </div>\n",
    "            </div>\n",
    "            <div class=\"message_template\">\n",
    "                <li class=\"message\">\n",
    "                    <div class=\"avatar\"></div>\n",
    "                    <div class=\"text_wrapper\">\n",
    "                        <div class=\"text\"></div>\n",
    "                    </div>\n",
    "                </li>\n",
    "            </div>\n",
    "        </div>\n",
    "    </div>\n",
    "</div>\n",
    "{% endblock %}\n",
    "\n",
    "\n",
    "{% block other_footers %}\n",
    "<script src=\"{{ url_for('static', filename=\"js/bind.js\") }}\"></script>\n",
    "{% endblock %}"
   ]
  },
  {
   "cell_type": "markdown",
   "metadata": {},
   "source": [
    "## Engine "
   ]
  },
  {
   "cell_type": "code",
   "execution_count": null,
   "metadata": {},
   "outputs": [],
   "source": [
    "intent_response_dict = {\n",
    "    \"intro\": [\"This is a GST FAQ bot. One stop-shop to all your GST related queries\"],\n",
    "    \"greet\":[\"hey\",\"hello\",\"hi\"],\n",
    "    \"goodbye\":[\"bye\",\"It was nice talking to you\",\"see you\",\"ttyl\"],\n",
    "    \"affirm\":[\"cool\",\"I know you would like it\"],\n",
    "    \"faq_link\":['You can check all the events here <a href=\"https://www.cbec.gov.in/resources//htdocs-cbec/deptt_offcr/faq-on-gst.pdf</a>']\n",
    "}"
   ]
  },
  {
   "cell_type": "code",
   "execution_count": null,
   "metadata": {},
   "outputs": [],
   "source": [
    "@app.route('/chat',methods=[\"POST\"])\n",
    "def chat():\n",
    "    try:\n",
    "        user_message = request.form[\"text\"]\n",
    "        response = requests.get(\"http://localhost:5000/parse\",params={\"q\":user_message})\n",
    "        response = response.json()\n",
    "        response = response[\"topScoringIntent\"]\n",
    "        intent = response.get(\"intent\")\n",
    "        entities = response.get(\"entities\")\n",
    "        if intent == \"gst-info\":\n",
    "            response_text = gst_info(entities\n",
    "        elif intent == \"gst-query\":\n",
    "            response_text = gst_query(entities)\n",
    "        else:\n",
    "            response_text = get_random_response(intent)\n",
    "        return jsonify({\"status\":\"success\",\"response\":response_text})\n",
    "    except Exception as e:\n",
    "        print(e)\n",
    "        return jsonify({\"status\":\"success\",\"response\":\"Sorry I am not trained to do that yet...\"})\n"
   ]
  }
 ],
 "metadata": {
  "kernelspec": {
   "display_name": "Python 3",
   "language": "python",
   "name": "python3"
  },
  "language_info": {
   "codemirror_mode": {
    "name": "ipython",
    "version": 3
   },
   "file_extension": ".py",
   "mimetype": "text/x-python",
   "name": "python",
   "nbconvert_exporter": "python",
   "pygments_lexer": "ipython3",
   "version": "3.7.3"
  }
 },
 "nbformat": 4,
 "nbformat_minor": 2
}
